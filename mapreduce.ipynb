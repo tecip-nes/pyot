{
 "metadata": {
  "name": "",
  "signature": "sha256:cbc6dd32f1cc121d6e0bec7b34fdc2d57d80ba9a682439881f0b5553392120dd"
 },
 "nbformat": 3,
 "nbformat_minor": 0,
 "worksheets": [
  {
   "cells": [
    {
     "cell_type": "code",
     "collapsed": false,
     "input": [
      "from pyot.mapreduce.mapreduceApp import pMap, pReduce, pMapReduce\n",
      "%matplotlib inline\n",
      "import matplotlib.pyplot as plt\n",
      "from networkx import *\n",
      "from pyot.rplApp import *\n",
      "from pyot.models import *\n",
      "from IPython.display import Image, display\n",
      "from networkx.algorithms import *\n",
      "import numpy as np\n",
      "\n",
      "def pngShow(path):\n",
      "    i = Image(filename=path)\n",
      "    display(i)"
     ],
     "language": "python",
     "metadata": {},
     "outputs": [],
     "prompt_number": 1
    },
    {
     "cell_type": "code",
     "collapsed": false,
     "input": [
      "rin = Resource.objects.filter(uri='/sensors/light')\n",
      "input_hosts = get_hosts_from_resources(rin)\n",
      "output = Resource.objects.filter(uri='/actuator')[0]\n",
      "\n",
      "#g = RplGraph.objects.all()[0]\n",
      "#highlight the input resources\n",
      "#pngShow(g.getPNG(highlight_list=input_hosts))\n",
      "\n",
      "#create the mapper\n",
      "myMap = pMap(inputS=rin, period=60)\n",
      "\n",
      "#create the reducer\n",
      "redcode = \"\"\"\n",
      "from tres_pymite import *\n",
      "print 'reduce'\n",
      "i = getIntInput()\n",
      "print i\n",
      "setOutput(10)\n",
      "\"\"\"\n",
      "myReduce = pReduce.fromSource(redcode, 'red')\n",
      "\n",
      "#create the mapReduce object\n",
      "mm = pMapReduce(myMap, myReduce, output, min_input=3)\n",
      "\n",
      "#select a network to deploy the mapreduce on\n",
      "net = Network.objects.get(hostname='cooja@pyot')\n",
      "\n",
      "#start the deployment process\n",
      "result = mm.deploy(net)\n",
      "print result\n",
      "\n",
      "reducers = mm.get_reducer_hosts()\n",
      "\n",
      "#highlight the reducers\n",
      "#pngShow(g.getPNG(highlight_list=reducers, color='blue'))"
     ],
     "language": "python",
     "metadata": {},
     "outputs": [
      {
       "output_type": "stream",
       "stream": "stdout",
       "text": [
        "Validating /home/andrea/pyot/pyot/media/scripts/red.py ...\n",
        "Deploy mapReduce task:\n",
        "\n",
        "map = map -- inputs=[<Resource: bbbb::200:0:0:2 - /sensors/light>, <Resource: bbbb::200:0:0:4 - /sensors/light>, <Resource: bbbb::200:0:0:5 - /sensors/light>, <Resource: bbbb::200:0:0:8 - /sensors/light>, <Resource: bbbb::200:0:0:a - /sensors/light>, <Resource: bbbb::200:0:0:3 - /sensors/light>, <Resource: bbbb::200:0:0:6 - /sensors/light>, <Resource: bbbb::200:0:0:7 - /sensors/light>, <Resource: bbbb::200:0:0:9 - /sensors/light>] -- period=60\n",
        "reduce = red\n",
        "output = bbbb::200:0:0:b - /actuator\n",
        "state = CREATED\n",
        "\n",
        "...on network: bbbb::/64 - cooja@pyot"
       ]
      },
      {
       "output_type": "stream",
       "stream": "stdout",
       "text": [
        "\n",
        "\n",
        "Bfs successors 6lbr\n",
        "Visiting host bbbb::200:0:0:6 --> [<Resource: bbbb::200:0:0:8 - /sensors/light>, <Resource: bbbb::200:0:0:6 - /sensors/light>] 2 inputs\n",
        "\n",
        "Visiting host bbbb::200:0:0:5 --> [<Resource: bbbb::200:0:0:5 - /sensors/light>, <Resource: bbbb::200:0:0:a - /sensors/light>, <Resource: bbbb::200:0:0:9 - /sensors/light>] 3 inputs\n",
        "**** Allocating a reducer on  bbbb::200:0:0:5\n",
        "selected inputs [<Resource: bbbb::200:0:0:5 - /sensors/light>, <Resource: bbbb::200:0:0:a - /sensors/light>, <Resource: bbbb::200:0:0:9 - /sensors/light>]\n",
        "first put result = 2.01"
       ]
      },
      {
       "output_type": "stream",
       "stream": "stdout",
       "text": [
        "\n",
        "PF put result = 2.04"
       ]
      },
      {
       "output_type": "stream",
       "stream": "stdout",
       "text": [
        "\n",
        "IS put result = 2.04 coap://[bbbb::200:0:0:5]/sensors/light"
       ]
      },
      {
       "output_type": "stream",
       "stream": "stdout",
       "text": [
        "\n",
        "IS put result = 2.04 coap://[bbbb::200:0:0:a]/sensors/light"
       ]
      },
      {
       "output_type": "stream",
       "stream": "stdout",
       "text": [
        "\n",
        "IS put result = 2.04 coap://[bbbb::200:0:0:9]/sensors/light"
       ]
      },
      {
       "output_type": "stream",
       "stream": "stdout",
       "text": [
        "\n",
        "\n"
       ]
      },
      {
       "output_type": "stream",
       "stream": "stdout",
       "text": [
        "Visiting host bbbb::200:0:0:4 --> [<Resource: bbbb::200:0:0:4 - /sensors/light>, <Resource: bbbb::200:0:0:7 - /sensors/light>] 2 inputs\n",
        "\n",
        "Visiting host bbbb::200:0:0:3 --> [<Resource: bbbb::200:0:0:8 - /sensors/light>, <Resource: bbbb::200:0:0:3 - /sensors/light>, <Resource: bbbb::200:0:0:6 - /sensors/light>, <Resource: bbbb::200:0:0:5 - /tasks/red/lo>] 4 inputs\n",
        "**** Allocating a reducer on  bbbb::200:0:0:3\n",
        "selected inputs [<Resource: bbbb::200:0:0:8 - /sensors/light>, <Resource: bbbb::200:0:0:3 - /sensors/light>, <Resource: bbbb::200:0:0:6 - /sensors/light>, <Resource: bbbb::200:0:0:5 - /tasks/red/lo>]\n",
        "first put result = 2.01"
       ]
      },
      {
       "output_type": "stream",
       "stream": "stdout",
       "text": [
        "\n",
        "PF put result = 2.04"
       ]
      },
      {
       "output_type": "stream",
       "stream": "stdout",
       "text": [
        "\n",
        "IS put result = 2.04 coap://[bbbb::200:0:0:8]/sensors/light"
       ]
      },
      {
       "output_type": "stream",
       "stream": "stdout",
       "text": [
        "\n",
        "IS put result = 2.04 coap://[bbbb::200:0:0:3]/sensors/light"
       ]
      },
      {
       "output_type": "stream",
       "stream": "stdout",
       "text": [
        "\n",
        "IS put result = 2.04 coap://[bbbb::200:0:0:6]/sensors/light"
       ]
      },
      {
       "output_type": "stream",
       "stream": "stdout",
       "text": [
        "\n",
        "IS put result = 2.04 coap://[bbbb::200:0:0:5]/tasks/red/lo"
       ]
      },
      {
       "output_type": "stream",
       "stream": "stdout",
       "text": [
        "\n",
        "\n"
       ]
      },
      {
       "output_type": "stream",
       "stream": "stdout",
       "text": [
        "Visiting host bbbb::200:0:0:2 --> [<Resource: bbbb::200:0:0:2 - /sensors/light>, <Resource: bbbb::200:0:0:4 - /sensors/light>, <Resource: bbbb::200:0:0:7 - /sensors/light>, <Resource: bbbb::200:0:0:3 - /tasks/red/lo>] 4 inputs\n",
        "**** Allocating a reducer on  bbbb::200:0:0:2\n",
        "selected inputs [<Resource: bbbb::200:0:0:2 - /sensors/light>, <Resource: bbbb::200:0:0:4 - /sensors/light>, <Resource: bbbb::200:0:0:7 - /sensors/light>, <Resource: bbbb::200:0:0:3 - /tasks/red/lo>]\n",
        "first put result = 2.01"
       ]
      },
      {
       "output_type": "stream",
       "stream": "stdout",
       "text": [
        "\n",
        "PF put result = 2.04"
       ]
      },
      {
       "output_type": "stream",
       "stream": "stdout",
       "text": [
        "\n",
        "OD put result = 2.04"
       ]
      },
      {
       "output_type": "stream",
       "stream": "stdout",
       "text": [
        "\n",
        "IS put result = 2.04 coap://[bbbb::200:0:0:2]/sensors/light"
       ]
      },
      {
       "output_type": "stream",
       "stream": "stdout",
       "text": [
        "\n",
        "IS put result = 2.04 coap://[bbbb::200:0:0:4]/sensors/light"
       ]
      },
      {
       "output_type": "stream",
       "stream": "stdout",
       "text": [
        "\n",
        "IS put result = 2.04 coap://[bbbb::200:0:0:7]/sensors/light"
       ]
      },
      {
       "output_type": "stream",
       "stream": "stdout",
       "text": [
        "\n",
        "IS put result = 2.04 coap://[bbbb::200:0:0:3]/tasks/red/lo"
       ]
      },
      {
       "output_type": "stream",
       "stream": "stdout",
       "text": [
        "\n",
        "\n"
       ]
      },
      {
       "output_type": "stream",
       "stream": "stdout",
       "text": [
        "1 - Successfully installed mapreduce task on networkbbbb::/64 - cooja@pyot\n"
       ]
      }
     ],
     "prompt_number": 10
    },
    {
     "cell_type": "code",
     "collapsed": false,
     "input": [
      "result = mm.start()\n",
      "print result"
     ],
     "language": "python",
     "metadata": {},
     "outputs": [
      {
       "output_type": "stream",
       "stream": "stdout",
       "text": [
        "bbbb::200:0:0:5 - /tasks Task now running 2.05\n",
        "bbbb::200:0:0:3 - /tasks"
       ]
      },
      {
       "output_type": "stream",
       "stream": "stdout",
       "text": [
        " Task now running 2.05\n",
        "bbbb::200:0:0:2 - /tasks"
       ]
      },
      {
       "output_type": "stream",
       "stream": "stdout",
       "text": [
        " Task now running 2.05\n",
        "1 - PyoT mapreduce process successfully started"
       ]
      },
      {
       "output_type": "stream",
       "stream": "stdout",
       "text": [
        "\n"
       ]
      }
     ],
     "prompt_number": 11
    },
    {
     "cell_type": "code",
     "collapsed": false,
     "input": [
      "result = mm.stop()\n",
      "print result"
     ],
     "language": "python",
     "metadata": {},
     "outputs": [
      {
       "output_type": "stream",
       "stream": "stdout",
       "text": [
        "bbbb::200:0:0:5 - /tasks Task now halted 2.05\n",
        "bbbb::200:0:0:3 - /tasks"
       ]
      },
      {
       "output_type": "stream",
       "stream": "stdout",
       "text": [
        " Task now halted 2.05\n",
        "bbbb::200:0:0:2 - /tasks"
       ]
      },
      {
       "output_type": "stream",
       "stream": "stdout",
       "text": [
        " Task now halted 2.05\n",
        "1 - PyoT mapreduce process successfully stopped"
       ]
      },
      {
       "output_type": "stream",
       "stream": "stdout",
       "text": [
        "\n"
       ]
      }
     ],
     "prompt_number": 8
    },
    {
     "cell_type": "code",
     "collapsed": false,
     "input": [
      "result = mm.uninstall()\n",
      "print result"
     ],
     "language": "python",
     "metadata": {},
     "outputs": [
      {
       "output_type": "stream",
       "stream": "stdout",
       "text": [
        "Successfully removed task: Pf=red, inputs=[<Resource: bbbb::200:0:0:5 - /sensors/light>, <Resource: bbbb::200:0:0:a - /sensors/light>, <Resource: bbbb::200:0:0:9 - /sensors/light>], output=None\n",
        "Successfully removed task: Pf=red, inputs=[<Resource: bbbb::200:0:0:8 - /sensors/light>, <Resource: bbbb::200:0:0:3 - /sensors/light>, <Resource: bbbb::200:0:0:6 - /sensors/light>], output=None"
       ]
      },
      {
       "output_type": "stream",
       "stream": "stdout",
       "text": [
        "\n",
        "Successfully removed task: Pf=red, inputs=[<Resource: bbbb::200:0:0:2 - /sensors/light>, <Resource: bbbb::200:0:0:4 - /sensors/light>, <Resource: bbbb::200:0:0:7 - /sensors/light>], output=bbbb::200:0:0:b - /actuator"
       ]
      },
      {
       "output_type": "stream",
       "stream": "stdout",
       "text": [
        "\n",
        "1 - PyoT mapreduce process successfully uninstalled"
       ]
      },
      {
       "output_type": "stream",
       "stream": "stdout",
       "text": [
        "\n"
       ]
      }
     ],
     "prompt_number": 9
    },
    {
     "cell_type": "code",
     "collapsed": false,
     "input": [],
     "language": "python",
     "metadata": {},
     "outputs": [],
     "prompt_number": 7
    },
    {
     "cell_type": "code",
     "collapsed": false,
     "input": [],
     "language": "python",
     "metadata": {},
     "outputs": []
    }
   ],
   "metadata": {}
  }
 ]
}