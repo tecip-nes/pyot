{
 "metadata": {
  "name": "",
  "signature": "sha256:7ac851885c01d3003be756c7f0e024f2a2b6196ee1e31cd9cba4aa4c92593225"
 },
 "nbformat": 3,
 "nbformat_minor": 0,
 "worksheets": [
  {
   "cells": [
    {
     "cell_type": "heading",
     "level": 1,
     "metadata": {},
     "source": [
      "T-Res API demo"
     ]
    },
    {
     "cell_type": "heading",
     "level": 3,
     "metadata": {},
     "source": [
      "Create processing function"
     ]
    },
    {
     "cell_type": "code",
     "collapsed": false,
     "input": [
      "from pyot.models import *\n",
      "from pyot.tres.tresApp import *"
     ],
     "language": "python",
     "metadata": {},
     "outputs": [],
     "prompt_number": 6
    },
    {
     "cell_type": "code",
     "collapsed": false,
     "input": [
      "halve = \"\"\"\n",
      "from tres_pymite import *\n",
      "print \"Halve:\",\n",
      "i = getIntInput()\n",
      "print i/2.\n",
      "setOutput(i/2.)\n",
      "\"\"\"\n",
      "\n",
      "t1 = TResPF.fromSource(halve, 'halve')\n",
      "\n",
      "rin = Resource.objects.filter(uri='/test/push', host__network__hostname='cooja@pyot')\n",
      "rout = Resource.objects.filter(uri='/actuator')[0]\n",
      "print rin, rout\n",
      "\n",
      "tresTask = TResTask(TresPf=t1, inputS=rin, output=rout, period=10)\n",
      "print tresTask\n",
      "\n",
      "\n",
      "r = Resource.objects.get(uri='/tasks')\n",
      "print r.host, '    is a t-res node'\n",
      "tresTask.deploy(r)\n",
      "#tresTask.emulate(120)\n"
     ],
     "language": "python",
     "metadata": {},
     "outputs": [
      {
       "output_type": "stream",
       "stream": "stdout",
       "text": [
        "Validating /home/andrea/pyot/pyot/media/scripts/halve.py ...\n",
        "[<Resource: bbbb::200:0:0:4 - /test/push>, <Resource: bbbb::200:0:0:3 - /test/push>]"
       ]
      },
      {
       "output_type": "stream",
       "stream": "stdout",
       "text": [
        " bbbb::200:0:0:2 - /actuator\n",
        "Pf=halve, inputs=[<Resource: bbbb::200:0:0:4 - /test/push>, <Resource: bbbb::200:0:0:3 - /test/push>], output=bbbb::200:0:0:2 - /actuator"
       ]
      },
      {
       "output_type": "stream",
       "stream": "stdout",
       "text": [
        "\n",
        "bbbb::200:0:0:2     is a t-res node\n",
        "first put result = 2.01"
       ]
      },
      {
       "output_type": "stream",
       "stream": "stdout",
       "text": [
        "\n",
        "PF put result = 2.04"
       ]
      },
      {
       "output_type": "stream",
       "stream": "stdout",
       "text": [
        "\n",
        "OD put result = 2.04"
       ]
      },
      {
       "output_type": "stream",
       "stream": "stdout",
       "text": [
        "\n",
        "IS put result = 2.04 coap://[bbbb::200:0:0:4]/test/push"
       ]
      },
      {
       "output_type": "stream",
       "stream": "stdout",
       "text": [
        "\n",
        "IS put result = 2.04 coap://[bbbb::200:0:0:3]/test/push"
       ]
      },
      {
       "output_type": "stream",
       "stream": "stdout",
       "text": [
        "\n"
       ]
      },
      {
       "metadata": {},
       "output_type": "pyout",
       "prompt_number": 13,
       "text": [
        "<pyot.models.rest.Response at 0xb1f771cc>"
       ]
      }
     ],
     "prompt_number": 13
    },
    {
     "cell_type": "heading",
     "level": 3,
     "metadata": {},
     "source": [
      "Start Tres Task"
     ]
    },
    {
     "cell_type": "code",
     "collapsed": false,
     "input": [
      "r = tresTask.start()\n",
      "print r"
     ],
     "language": "python",
     "metadata": {},
     "outputs": [
      {
       "output_type": "stream",
       "stream": "stdout",
       "text": [
        "bbbb::200:0:0:2 - /tasks Task now running 2.05\n",
        "2.05 - Task now running"
       ]
      },
      {
       "output_type": "stream",
       "stream": "stdout",
       "text": [
        "\n"
       ]
      }
     ],
     "prompt_number": 14
    },
    {
     "cell_type": "heading",
     "level": 3,
     "metadata": {},
     "source": [
      "Get the last output"
     ]
    },
    {
     "cell_type": "code",
     "collapsed": false,
     "input": [
      "lo = tresTask.getLastOutput()\n",
      "r = lo.GET()\n",
      "print r"
     ],
     "language": "python",
     "metadata": {},
     "outputs": [
      {
       "output_type": "stream",
       "stream": "stdout",
       "text": [
        "2.05 - 85.500000\n"
       ]
      }
     ],
     "prompt_number": 9
    },
    {
     "cell_type": "heading",
     "level": 3,
     "metadata": {},
     "source": [
      "Check the content of *is* and *od*"
     ]
    },
    {
     "cell_type": "code",
     "collapsed": false,
     "input": [
      "Is = tresTask.getInputSource()\n",
      "r = Is.GET()\n",
      "print r\n",
      "\n",
      "Od = tresTask.getOutputDestination()\n",
      "r = Od.GET()\n",
      "print r"
     ],
     "language": "python",
     "metadata": {},
     "outputs": [
      {
       "output_type": "stream",
       "stream": "stdout",
       "text": [
        "2.05 - <coap://[bbbb::200:0:0:4]/test/push>,<coap://[bbbb::200:0:0:3]/test/push>\n",
        "2.05 - <coap://[bbbb::200:0:0:2]/actuator>"
       ]
      },
      {
       "output_type": "stream",
       "stream": "stdout",
       "text": [
        "\n"
       ]
      }
     ],
     "prompt_number": 10
    },
    {
     "cell_type": "heading",
     "level": 3,
     "metadata": {},
     "source": [
      "Start Tres Task"
     ]
    },
    {
     "cell_type": "code",
     "collapsed": false,
     "input": [
      "r = tresTask.stop()\n",
      "print r"
     ],
     "language": "python",
     "metadata": {},
     "outputs": [
      {
       "output_type": "stream",
       "stream": "stdout",
       "text": [
        "bbbb::200:0:0:2 - /tasks Task now halted 2.05\n",
        "2.05 - Task now halted"
       ]
      },
      {
       "output_type": "stream",
       "stream": "stdout",
       "text": [
        "\n"
       ]
      }
     ],
     "prompt_number": 15
    },
    {
     "cell_type": "heading",
     "level": 3,
     "metadata": {},
     "source": [
      "Uninstall the task"
     ]
    },
    {
     "cell_type": "code",
     "collapsed": false,
     "input": [
      "r = tresTask.uninstall()\n",
      "print r"
     ],
     "language": "python",
     "metadata": {},
     "outputs": [
      {
       "output_type": "stream",
       "stream": "stdout",
       "text": [
        "1 - Task halve uninstalled\n"
       ]
      }
     ],
     "prompt_number": 16
    },
    {
     "cell_type": "code",
     "collapsed": false,
     "input": [],
     "language": "python",
     "metadata": {},
     "outputs": []
    }
   ],
   "metadata": {}
  }
 ]
}